{
  "cells": [
    {
      "cell_type": "markdown",
      "metadata": {
        "id": "view-in-github",
        "colab_type": "text"
      },
      "source": [
        "<a href=\"https://colab.research.google.com/github/konschak/WebscrappingAP/blob/main/Limpeza%20de%20dados%20-%20Apartamento.ipynb\" target=\"_parent\"><img src=\"https://colab.research.google.com/assets/colab-badge.svg\" alt=\"Open In Colab\"/></a>"
      ]
    },
    {
      "cell_type": "markdown",
      "metadata": {
        "id": "fK35dGicnd1p"
      },
      "source": [
        "Limpeza dos dados"
      ]
    },
    {
      "cell_type": "code",
      "execution_count": null,
      "metadata": {
        "id": "Oea8c5LpniMn"
      },
      "outputs": [],
      "source": [
        "import pandas as pd\n",
        "import numpy as np\n",
        "import seaborn as sns\n",
        "import re"
      ]
    },
    {
      "cell_type": "code",
      "execution_count": null,
      "metadata": {
        "colab": {
          "base_uri": "https://localhost:8080/",
          "height": 313
        },
        "id": "QLXe4TXCnsDU",
        "outputId": "60418e4c-54ee-48bd-925e-527c302b8daa"
      },
      "outputs": [
        {
          "output_type": "execute_result",
          "data": {
            "text/plain": [
              "        preco metros_quadrados num_quartos num_banheiro  num_garagem  \\\n",
              "0  R$ 339.900          48 a 15          2           1              1   \n",
              "1  R$ 390.000              133          3           1              1   \n",
              "2  R$ 930.000               68          2           2              1   \n",
              "3  R$ 298.000               64          2           1              1   \n",
              "4  R$ 890.000              122          2           3              2   \n",
              "\n",
              "        endereco                                               link  \n",
              "0     Capão Raso  https://www.chavesnamao.com.br/lancamento/gard...  \n",
              "1         Portão  https://www.chavesnamao.com.br/imovel/apartame...  \n",
              "2    Vila Izabel  https://www.chavesnamao.com.br/imovel/apartame...  \n",
              "3  Santa Cândida  https://www.chavesnamao.com.br/imovel/apartame...  \n",
              "4  São Francisco  https://www.chavesnamao.com.br/imovel/apartame...  "
            ],
            "text/html": [
              "\n",
              "  <div id=\"df-806e805a-ad40-45cf-8571-be0624f1e0a7\" class=\"colab-df-container\">\n",
              "    <div>\n",
              "<style scoped>\n",
              "    .dataframe tbody tr th:only-of-type {\n",
              "        vertical-align: middle;\n",
              "    }\n",
              "\n",
              "    .dataframe tbody tr th {\n",
              "        vertical-align: top;\n",
              "    }\n",
              "\n",
              "    .dataframe thead th {\n",
              "        text-align: right;\n",
              "    }\n",
              "</style>\n",
              "<table border=\"1\" class=\"dataframe\">\n",
              "  <thead>\n",
              "    <tr style=\"text-align: right;\">\n",
              "      <th></th>\n",
              "      <th>preco</th>\n",
              "      <th>metros_quadrados</th>\n",
              "      <th>num_quartos</th>\n",
              "      <th>num_banheiro</th>\n",
              "      <th>num_garagem</th>\n",
              "      <th>endereco</th>\n",
              "      <th>link</th>\n",
              "    </tr>\n",
              "  </thead>\n",
              "  <tbody>\n",
              "    <tr>\n",
              "      <th>0</th>\n",
              "      <td>R$ 339.900</td>\n",
              "      <td>48 a 15</td>\n",
              "      <td>2</td>\n",
              "      <td>1</td>\n",
              "      <td>1</td>\n",
              "      <td>Capão Raso</td>\n",
              "      <td>https://www.chavesnamao.com.br/lancamento/gard...</td>\n",
              "    </tr>\n",
              "    <tr>\n",
              "      <th>1</th>\n",
              "      <td>R$ 390.000</td>\n",
              "      <td>133</td>\n",
              "      <td>3</td>\n",
              "      <td>1</td>\n",
              "      <td>1</td>\n",
              "      <td>Portão</td>\n",
              "      <td>https://www.chavesnamao.com.br/imovel/apartame...</td>\n",
              "    </tr>\n",
              "    <tr>\n",
              "      <th>2</th>\n",
              "      <td>R$ 930.000</td>\n",
              "      <td>68</td>\n",
              "      <td>2</td>\n",
              "      <td>2</td>\n",
              "      <td>1</td>\n",
              "      <td>Vila Izabel</td>\n",
              "      <td>https://www.chavesnamao.com.br/imovel/apartame...</td>\n",
              "    </tr>\n",
              "    <tr>\n",
              "      <th>3</th>\n",
              "      <td>R$ 298.000</td>\n",
              "      <td>64</td>\n",
              "      <td>2</td>\n",
              "      <td>1</td>\n",
              "      <td>1</td>\n",
              "      <td>Santa Cândida</td>\n",
              "      <td>https://www.chavesnamao.com.br/imovel/apartame...</td>\n",
              "    </tr>\n",
              "    <tr>\n",
              "      <th>4</th>\n",
              "      <td>R$ 890.000</td>\n",
              "      <td>122</td>\n",
              "      <td>2</td>\n",
              "      <td>3</td>\n",
              "      <td>2</td>\n",
              "      <td>São Francisco</td>\n",
              "      <td>https://www.chavesnamao.com.br/imovel/apartame...</td>\n",
              "    </tr>\n",
              "  </tbody>\n",
              "</table>\n",
              "</div>\n",
              "    <div class=\"colab-df-buttons\">\n",
              "\n",
              "  <div class=\"colab-df-container\">\n",
              "    <button class=\"colab-df-convert\" onclick=\"convertToInteractive('df-806e805a-ad40-45cf-8571-be0624f1e0a7')\"\n",
              "            title=\"Convert this dataframe to an interactive table.\"\n",
              "            style=\"display:none;\">\n",
              "\n",
              "  <svg xmlns=\"http://www.w3.org/2000/svg\" height=\"24px\" viewBox=\"0 -960 960 960\">\n",
              "    <path d=\"M120-120v-720h720v720H120Zm60-500h600v-160H180v160Zm220 220h160v-160H400v160Zm0 220h160v-160H400v160ZM180-400h160v-160H180v160Zm440 0h160v-160H620v160ZM180-180h160v-160H180v160Zm440 0h160v-160H620v160Z\"/>\n",
              "  </svg>\n",
              "    </button>\n",
              "\n",
              "  <style>\n",
              "    .colab-df-container {\n",
              "      display:flex;\n",
              "      gap: 12px;\n",
              "    }\n",
              "\n",
              "    .colab-df-convert {\n",
              "      background-color: #E8F0FE;\n",
              "      border: none;\n",
              "      border-radius: 50%;\n",
              "      cursor: pointer;\n",
              "      display: none;\n",
              "      fill: #1967D2;\n",
              "      height: 32px;\n",
              "      padding: 0 0 0 0;\n",
              "      width: 32px;\n",
              "    }\n",
              "\n",
              "    .colab-df-convert:hover {\n",
              "      background-color: #E2EBFA;\n",
              "      box-shadow: 0px 1px 2px rgba(60, 64, 67, 0.3), 0px 1px 3px 1px rgba(60, 64, 67, 0.15);\n",
              "      fill: #174EA6;\n",
              "    }\n",
              "\n",
              "    .colab-df-buttons div {\n",
              "      margin-bottom: 4px;\n",
              "    }\n",
              "\n",
              "    [theme=dark] .colab-df-convert {\n",
              "      background-color: #3B4455;\n",
              "      fill: #D2E3FC;\n",
              "    }\n",
              "\n",
              "    [theme=dark] .colab-df-convert:hover {\n",
              "      background-color: #434B5C;\n",
              "      box-shadow: 0px 1px 3px 1px rgba(0, 0, 0, 0.15);\n",
              "      filter: drop-shadow(0px 1px 2px rgba(0, 0, 0, 0.3));\n",
              "      fill: #FFFFFF;\n",
              "    }\n",
              "  </style>\n",
              "\n",
              "    <script>\n",
              "      const buttonEl =\n",
              "        document.querySelector('#df-806e805a-ad40-45cf-8571-be0624f1e0a7 button.colab-df-convert');\n",
              "      buttonEl.style.display =\n",
              "        google.colab.kernel.accessAllowed ? 'block' : 'none';\n",
              "\n",
              "      async function convertToInteractive(key) {\n",
              "        const element = document.querySelector('#df-806e805a-ad40-45cf-8571-be0624f1e0a7');\n",
              "        const dataTable =\n",
              "          await google.colab.kernel.invokeFunction('convertToInteractive',\n",
              "                                                    [key], {});\n",
              "        if (!dataTable) return;\n",
              "\n",
              "        const docLinkHtml = 'Like what you see? Visit the ' +\n",
              "          '<a target=\"_blank\" href=https://colab.research.google.com/notebooks/data_table.ipynb>data table notebook</a>'\n",
              "          + ' to learn more about interactive tables.';\n",
              "        element.innerHTML = '';\n",
              "        dataTable['output_type'] = 'display_data';\n",
              "        await google.colab.output.renderOutput(dataTable, element);\n",
              "        const docLink = document.createElement('div');\n",
              "        docLink.innerHTML = docLinkHtml;\n",
              "        element.appendChild(docLink);\n",
              "      }\n",
              "    </script>\n",
              "  </div>\n",
              "\n",
              "\n",
              "<div id=\"df-80358d7c-25fb-459a-9d04-3ed7531abec8\">\n",
              "  <button class=\"colab-df-quickchart\" onclick=\"quickchart('df-80358d7c-25fb-459a-9d04-3ed7531abec8')\"\n",
              "            title=\"Suggest charts.\"\n",
              "            style=\"display:none;\">\n",
              "\n",
              "<svg xmlns=\"http://www.w3.org/2000/svg\" height=\"24px\"viewBox=\"0 0 24 24\"\n",
              "     width=\"24px\">\n",
              "    <g>\n",
              "        <path d=\"M19 3H5c-1.1 0-2 .9-2 2v14c0 1.1.9 2 2 2h14c1.1 0 2-.9 2-2V5c0-1.1-.9-2-2-2zM9 17H7v-7h2v7zm4 0h-2V7h2v10zm4 0h-2v-4h2v4z\"/>\n",
              "    </g>\n",
              "</svg>\n",
              "  </button>\n",
              "\n",
              "<style>\n",
              "  .colab-df-quickchart {\n",
              "      --bg-color: #E8F0FE;\n",
              "      --fill-color: #1967D2;\n",
              "      --hover-bg-color: #E2EBFA;\n",
              "      --hover-fill-color: #174EA6;\n",
              "      --disabled-fill-color: #AAA;\n",
              "      --disabled-bg-color: #DDD;\n",
              "  }\n",
              "\n",
              "  [theme=dark] .colab-df-quickchart {\n",
              "      --bg-color: #3B4455;\n",
              "      --fill-color: #D2E3FC;\n",
              "      --hover-bg-color: #434B5C;\n",
              "      --hover-fill-color: #FFFFFF;\n",
              "      --disabled-bg-color: #3B4455;\n",
              "      --disabled-fill-color: #666;\n",
              "  }\n",
              "\n",
              "  .colab-df-quickchart {\n",
              "    background-color: var(--bg-color);\n",
              "    border: none;\n",
              "    border-radius: 50%;\n",
              "    cursor: pointer;\n",
              "    display: none;\n",
              "    fill: var(--fill-color);\n",
              "    height: 32px;\n",
              "    padding: 0;\n",
              "    width: 32px;\n",
              "  }\n",
              "\n",
              "  .colab-df-quickchart:hover {\n",
              "    background-color: var(--hover-bg-color);\n",
              "    box-shadow: 0 1px 2px rgba(60, 64, 67, 0.3), 0 1px 3px 1px rgba(60, 64, 67, 0.15);\n",
              "    fill: var(--button-hover-fill-color);\n",
              "  }\n",
              "\n",
              "  .colab-df-quickchart-complete:disabled,\n",
              "  .colab-df-quickchart-complete:disabled:hover {\n",
              "    background-color: var(--disabled-bg-color);\n",
              "    fill: var(--disabled-fill-color);\n",
              "    box-shadow: none;\n",
              "  }\n",
              "\n",
              "  .colab-df-spinner {\n",
              "    border: 2px solid var(--fill-color);\n",
              "    border-color: transparent;\n",
              "    border-bottom-color: var(--fill-color);\n",
              "    animation:\n",
              "      spin 1s steps(1) infinite;\n",
              "  }\n",
              "\n",
              "  @keyframes spin {\n",
              "    0% {\n",
              "      border-color: transparent;\n",
              "      border-bottom-color: var(--fill-color);\n",
              "      border-left-color: var(--fill-color);\n",
              "    }\n",
              "    20% {\n",
              "      border-color: transparent;\n",
              "      border-left-color: var(--fill-color);\n",
              "      border-top-color: var(--fill-color);\n",
              "    }\n",
              "    30% {\n",
              "      border-color: transparent;\n",
              "      border-left-color: var(--fill-color);\n",
              "      border-top-color: var(--fill-color);\n",
              "      border-right-color: var(--fill-color);\n",
              "    }\n",
              "    40% {\n",
              "      border-color: transparent;\n",
              "      border-right-color: var(--fill-color);\n",
              "      border-top-color: var(--fill-color);\n",
              "    }\n",
              "    60% {\n",
              "      border-color: transparent;\n",
              "      border-right-color: var(--fill-color);\n",
              "    }\n",
              "    80% {\n",
              "      border-color: transparent;\n",
              "      border-right-color: var(--fill-color);\n",
              "      border-bottom-color: var(--fill-color);\n",
              "    }\n",
              "    90% {\n",
              "      border-color: transparent;\n",
              "      border-bottom-color: var(--fill-color);\n",
              "    }\n",
              "  }\n",
              "</style>\n",
              "\n",
              "  <script>\n",
              "    async function quickchart(key) {\n",
              "      const quickchartButtonEl =\n",
              "        document.querySelector('#' + key + ' button');\n",
              "      quickchartButtonEl.disabled = true;  // To prevent multiple clicks.\n",
              "      quickchartButtonEl.classList.add('colab-df-spinner');\n",
              "      try {\n",
              "        const charts = await google.colab.kernel.invokeFunction(\n",
              "            'suggestCharts', [key], {});\n",
              "      } catch (error) {\n",
              "        console.error('Error during call to suggestCharts:', error);\n",
              "      }\n",
              "      quickchartButtonEl.classList.remove('colab-df-spinner');\n",
              "      quickchartButtonEl.classList.add('colab-df-quickchart-complete');\n",
              "    }\n",
              "    (() => {\n",
              "      let quickchartButtonEl =\n",
              "        document.querySelector('#df-80358d7c-25fb-459a-9d04-3ed7531abec8 button');\n",
              "      quickchartButtonEl.style.display =\n",
              "        google.colab.kernel.accessAllowed ? 'block' : 'none';\n",
              "    })();\n",
              "  </script>\n",
              "</div>\n",
              "    </div>\n",
              "  </div>\n"
            ]
          },
          "metadata": {},
          "execution_count": 93
        }
      ],
      "source": [
        "dados = pd.read_csv('Apartamentos.csv', sep=';', index_col=0)\n",
        "dados.head(5)"
      ]
    },
    {
      "cell_type": "code",
      "execution_count": null,
      "metadata": {
        "colab": {
          "base_uri": "https://localhost:8080/"
        },
        "id": "syFFs1qln2Ep",
        "outputId": "e07d935d-aa0c-4094-fe69-3442bd048e41"
      },
      "outputs": [
        {
          "output_type": "stream",
          "name": "stderr",
          "text": [
            "<ipython-input-94-a65c4753857f>:2: FutureWarning: The default value of regex will change from True to False in a future version. In addition, single character regular expressions will *not* be treated as literal strings when regex=True.\n",
            "  dados.preco = dados.preco.str.replace('.','')\n"
          ]
        },
        {
          "output_type": "execute_result",
          "data": {
            "text/plain": [
              "array(['0', '1000000', '1014900', '1018159', '1020000', '1026900',\n",
              "       '1027047', '1038634', '1040000', '1043443', '1048900', '105000',\n",
              "       '1050000', '1052301', '1070100', '1072427', '10766600', '1077771',\n",
              "       '1080000', '1085037', '1090000', '1092620', '1099000', '1099990',\n",
              "       '1100000', '11000000', '1119063', '1120209', '1124057', '1130416',\n",
              "       '1140000', '1150000', '1160000', '1160868', '1164000', '1170000',\n",
              "       '1179374', '1180000', '1183200', '1185000', '1189952', '1190000',\n",
              "       '1195000', '1199000', '120000', '1204719', '1227000', '1238967',\n",
              "       '1249900', '125000', '1250000', '1254859', '1258000', '1270000',\n",
              "       '1280000', '1287632', '129000', '1290000', '129900', '1299000',\n",
              "       '130000', '1300000', '1304136', '1310000', '132000', '1320000',\n",
              "       '1350000', '1360000', '1360164', '1363000', '1363060', '1365000',\n",
              "       '1365165', '1367151', '1370000', '1377937', '1380000', '1385000',\n",
              "       '1390000', '140000', '1400000', '1414000', '1415000', '1431900',\n",
              "       '1435000', '14420098', '145000', '1450000', '1479000', '1480000',\n",
              "       '149000', '1490000', '1496000', '1499900', '149999', '150000',\n",
              "       '1500000', '150100', '1501605', '1515726', '1518000', '1519009',\n",
              "       '1524000', '1525630', '1531765', '1533771', '1536551', '155000',\n",
              "       '1550000', '1553534', '156000', '1570000', '1576195', '1577600',\n",
              "       '1580000', '1587420', '1589000', '1589985', '159000', '1590000',\n",
              "       '1590400', '159900', '1599000', '159999', '160000', '1600000',\n",
              "       '1611844', '162000', '1624319', '1630000', '163359', '165000',\n",
              "       '1650000', '1662250', '1668822', '168000', '1680000', '1684000',\n",
              "       '169000', '1690000', '1695495', '169900', '170000', '1700000',\n",
              "       '1708670', '1730348', '1733101', '1735000', '1749000', '175000',\n",
              "       '1750000', '1750900', '1751000', '1769000', '1776900', '178000',\n",
              "       '1780000', '178900', '1790000', '1793449', '179755', '180000',\n",
              "       '1800000', '183800', '184000', '184900', '1849000', '185000',\n",
              "       '1850000', '186500', '188000', '189000', '190000', '1900000',\n",
              "       '191000', '1923900', '1929000', '1930000', '1946000', '195000',\n",
              "       '1950000', '1968000', '1980000', '1988900', '199000', '1995000',\n",
              "       '199900', '1999000', '200000', '2000000', '2010422', '210000',\n",
              "       '2100000', '2128900', '2146590', '215000', '2152249', '215925',\n",
              "       '216000', '2171900', '218000', '219000', '2190000', '219900',\n",
              "       '2199000', '220000', '2200000', '223000', '2245000', '224900',\n",
              "       '225000', '2250000', '2259671', '2274575', '229000', '2298000',\n",
              "       '229900', '230000', '232000', '2324322', '2324336', '2328288',\n",
              "       '232900', '2330000', '2342000', '2345000', '235000', '2369616',\n",
              "       '238000', '2380000', '238750', '2389064', '239000', '239900',\n",
              "       '240000', '240490', '2410150', '242000', '2422000', '244000',\n",
              "       '244400', '245', '245000', '248300', '249000', '249500', '249900',\n",
              "       '250000', '2500000', '251100', '252000', '253744', '254000',\n",
              "       '255000', '256242', '257000', '2570813', '257900', '258000',\n",
              "       '2580000', '258122', '258900', '259000', '2590000', '2596000',\n",
              "       '259700', '260000', '2601000', '2604000', '2606500', '260730',\n",
              "       '260900', '260990', '2610000', '261900', '261941', '2620000',\n",
              "       '262685', '264000', '2645900', '264900', '265000', '2650000',\n",
              "       '2656670', '265965', '269000', '2690000', '269400', '269606',\n",
              "       '269700', '269900', '270000', '2700000', '2701081', '2709681',\n",
              "       '272000', '2720000', '274990', '275000', '275489', '2757400',\n",
              "       '277000', '279000', '2790000', '280', '280000', '280710', '282942',\n",
              "       '283999', '284000', '284184', '284549', '284999', '285000',\n",
              "       '287729', '2877740', '288000', '288578', '288592', '289000',\n",
              "       '2892444', '289600', '290000', '2900000', '291000', '2914000',\n",
              "       '291619', '2917330', '292000', '292638', '2934166', '2948000',\n",
              "       '294900', '295000', '296548', '297456', '297900', '298000',\n",
              "       '2980000', '299000', '2990000', '299306', '299900', '299999',\n",
              "       '300000', '3009000', '303000', '305000', '305990', '306000',\n",
              "       '306640', '3067853', '307564', '3076000', '309000', '3090000',\n",
              "       '3098000', '310000', '310737', '3122597', '312705', '315000',\n",
              "       '317000', '317795', '318000', '3180000', '319000', '320000',\n",
              "       '3200000', '320415', '321164', '322908', '324006', '325000',\n",
              "       '325900', '328558', '329000', '3290000', '329051', '3296473',\n",
              "       '329900', '330000', '334840', '334900', '335000', '335990',\n",
              "       '336000', '338000', '339000', '339900', '339990', '340000',\n",
              "       '3400000', '3407000', '341900', '3426352', '344000', '3440000',\n",
              "       '344043', '345000', '345400', '348000', '349000', '349900',\n",
              "       '350000', '3500000', '355900', '3562145', '356449', '358000',\n",
              "       '360000', '360410', '364900', '365000', '367000', '368000',\n",
              "       '368865', '369000', '369093', '3695121', '370000', '3704532',\n",
              "       '370676', '371000', '3717900', '372000', '375000', '3750000',\n",
              "       '375510', '376900', '378000', '379000', '379273', '3793802',\n",
              "       '3795000', '3799180', '379970', '380000', '383000', '385000',\n",
              "       '387000', '389000', '3890000', '389900', '3899000', '390000',\n",
              "       '3900000', '390829', '3908300', '3909000', '391767', '392708',\n",
              "       '3939288', '393975', '394900', '395000', '397000', '3985900',\n",
              "       '399000', '399900', '3999000', '3999078', '400000', '4000000',\n",
              "       '401091', '401246', '402836', '405000', '409900', '410000',\n",
              "       '410218', '4120000', '414000', '414645', '415000', '415390',\n",
              "       '415520', '415800', '416000', '418670', '419000', '420000',\n",
              "       '4200000', '421000', '422000', '423000', '423318', '425000',\n",
              "       '425467', '425900', '427600', '428000', '429000', '430000',\n",
              "       '432000', '432564', '435000', '436900', '439000', '440000',\n",
              "       '4436400', '4438153', '443900', '444520', '445000', '445952',\n",
              "       '447900', '448133', '448900', '449000', '449100', '4499000',\n",
              "       '449990', '450000', '4500000', '453000', '454799', '455000',\n",
              "       '459000', '459570', '460000', '462990', '4696000', '470000',\n",
              "       '473355', '475000', '476840', '477000', '478841', '480000',\n",
              "       '4800000', '482500', '484000', '485000', '485255', '486683',\n",
              "       '487544', '4884430', '488900', '489500', '490000', '490779',\n",
              "       '493000', '493314', '495000', '498000', '499000', '499310',\n",
              "       '4999900', '500000', '505000', '505110', '506258', '507312',\n",
              "       '509000', '509990', '512508', '512922', '5181000', '520000',\n",
              "       '520600', '520886', '521900', '522000', '523000', '524500',\n",
              "       '524663', '524737', '525000', '528000', '528019', '528900',\n",
              "       '530000', '530758', '535000', '5350000', '535178', '537000',\n",
              "       '538900', '540000', '540925', '5429900', '5432470', '545000',\n",
              "       '5458100', '548000', '549000', '549950', '550000', '5500000',\n",
              "       '555000', '556900', '557196', '557445', '559900', '560000',\n",
              "       '561000', '563900', '565000', '565800', '567000', '569000',\n",
              "       '569900', '570900', '575362', '575700', '577900', '580000',\n",
              "       '5800000', '584000', '586011', '589000', '589900', '590000',\n",
              "       '590933', '592900', '595000', '595499', '595547', '597000',\n",
              "       '599000', '5992875', '599900', '600000', '603500', '6054718',\n",
              "       '606900', '607000', '607759', '609000', '6090000', '609900',\n",
              "       '610000', '612900', '615000', '616500', '617900', '618115',\n",
              "       '620000', '621000', '623187', '624900', '625000', '626026',\n",
              "       '627600', '629000', '629900', '630000', '634202', '635000',\n",
              "       '636900', '6372900', '640000', '6404411', '640951', '641000',\n",
              "       '641475', '643900', '645000', '645618', '649000', '650000',\n",
              "       '650329', '651500', '660000', '661424', '665000', '670000',\n",
              "       '673316', '673900', '676900', '677340', '680000', '681900',\n",
              "       '682000', '685000', '688000', '690000', '690283', '691670',\n",
              "       '695000', '697900', '698170', '699000', '699900', '700000',\n",
              "       '705500', '709000', '710000', '711109', '714900', '715900',\n",
              "       '719000', '720000', '7211303', '727400', '730000', '733000',\n",
              "       '736900', '737000', '7388800', '739600', '740000', '749000',\n",
              "       '750000', '752100', '753000', '754000', '756029', '759000',\n",
              "       '760000', '765000', '767280', '768000', '770000', '775000',\n",
              "       '776000', '780000', '7800000', '780667', '781100', '784900',\n",
              "       '785000', '785309', '787000', '790000', '791389', '794073',\n",
              "       '795000', '798000', '799000', '800000', '800800', '801408',\n",
              "       '806000', '810000', '810900', '816000', '820000', '821927',\n",
              "       '822974', '829000', '8295933', '830000', '830496', '830700',\n",
              "       '835798', '837000', '839000', '840000', '840110', '8440500',\n",
              "       '847500', '848900', '849000', '850000', '850927', '851670',\n",
              "       '852900', '855000', '859000', '860000', '8628008', '864000',\n",
              "       '864900', '866108', '870000', '872000', '873900', '875000',\n",
              "       '875303', '876000', '876317', '879900', '880000', '882093',\n",
              "       '882900', '887534', '890000', '895000', '8952193', '895500',\n",
              "       '895900', '898000', '899000', '899900', '900000', '901706',\n",
              "       '905000', '910000', '912700', '920000', '921000', '922225',\n",
              "       '925900', '927003', '930000', '940000', '945000', '948900',\n",
              "       '949900', '950000', '958000', '959700', '963500', '975000',\n",
              "       '979000', '980000', '980499', '983819', '984500', '985000',\n",
              "       '989000', '989727', '990000', '997258', '998000', '999000'],\n",
              "      dtype=object)"
            ]
          },
          "metadata": {},
          "execution_count": 94
        }
      ],
      "source": [
        "dados.preco = dados.preco.str.replace('R$ ','',  regex=False)\n",
        "dados.preco = dados.preco.str.replace('.','')\n",
        "dados.preco = dados.preco.str.replace('Confira','0')\n",
        "dados.sort_values(by=['preco']).preco.unique()\n"
      ]
    },
    {
      "cell_type": "code",
      "source": [
        "dados.preco = dados.preco.astype(float)\n",
        "dados.info()"
      ],
      "metadata": {
        "colab": {
          "base_uri": "https://localhost:8080/"
        },
        "id": "0t7EQbcNeVSf",
        "outputId": "4e250df9-eeca-4dd9-f517-a213921cfad2"
      },
      "execution_count": null,
      "outputs": [
        {
          "output_type": "stream",
          "name": "stdout",
          "text": [
            "<class 'pandas.core.frame.DataFrame'>\n",
            "Int64Index: 2655 entries, 0 to 2654\n",
            "Data columns (total 7 columns):\n",
            " #   Column            Non-Null Count  Dtype  \n",
            "---  ------            --------------  -----  \n",
            " 0   preco             2655 non-null   float64\n",
            " 1   metros_quadrados  2655 non-null   object \n",
            " 2   num_quartos       2655 non-null   object \n",
            " 3   num_banheiro      2655 non-null   object \n",
            " 4   num_garagem       2655 non-null   int64  \n",
            " 5   endereco          2655 non-null   object \n",
            " 6   link              2655 non-null   object \n",
            "dtypes: float64(1), int64(1), object(5)\n",
            "memory usage: 165.9+ KB\n"
          ]
        }
      ]
    },
    {
      "cell_type": "code",
      "source": [
        "dados.head(5)"
      ],
      "metadata": {
        "colab": {
          "base_uri": "https://localhost:8080/",
          "height": 296
        },
        "id": "kLz8nfa3bMK4",
        "outputId": "7ae4913b-bb0e-4620-a8d6-846c4584aee7"
      },
      "execution_count": null,
      "outputs": [
        {
          "output_type": "execute_result",
          "data": {
            "text/plain": [
              "       preco metros_quadrados num_quartos num_banheiro  num_garagem  \\\n",
              "0 339900.000          48 a 15          2           1              1   \n",
              "1 390000.000              133          3           1              1   \n",
              "2 930000.000               68          2           2              1   \n",
              "3 298000.000               64          2           1              1   \n",
              "4 890000.000              122          2           3              2   \n",
              "\n",
              "        endereco                                               link  \n",
              "0     Capão Raso  https://www.chavesnamao.com.br/lancamento/gard...  \n",
              "1         Portão  https://www.chavesnamao.com.br/imovel/apartame...  \n",
              "2    Vila Izabel  https://www.chavesnamao.com.br/imovel/apartame...  \n",
              "3  Santa Cândida  https://www.chavesnamao.com.br/imovel/apartame...  \n",
              "4  São Francisco  https://www.chavesnamao.com.br/imovel/apartame...  "
            ],
            "text/html": [
              "\n",
              "  <div id=\"df-ace75dde-db6a-4ed2-95b3-1e1716df1acc\" class=\"colab-df-container\">\n",
              "    <div>\n",
              "<style scoped>\n",
              "    .dataframe tbody tr th:only-of-type {\n",
              "        vertical-align: middle;\n",
              "    }\n",
              "\n",
              "    .dataframe tbody tr th {\n",
              "        vertical-align: top;\n",
              "    }\n",
              "\n",
              "    .dataframe thead th {\n",
              "        text-align: right;\n",
              "    }\n",
              "</style>\n",
              "<table border=\"1\" class=\"dataframe\">\n",
              "  <thead>\n",
              "    <tr style=\"text-align: right;\">\n",
              "      <th></th>\n",
              "      <th>preco</th>\n",
              "      <th>metros_quadrados</th>\n",
              "      <th>num_quartos</th>\n",
              "      <th>num_banheiro</th>\n",
              "      <th>num_garagem</th>\n",
              "      <th>endereco</th>\n",
              "      <th>link</th>\n",
              "    </tr>\n",
              "  </thead>\n",
              "  <tbody>\n",
              "    <tr>\n",
              "      <th>0</th>\n",
              "      <td>339900.000</td>\n",
              "      <td>48 a 15</td>\n",
              "      <td>2</td>\n",
              "      <td>1</td>\n",
              "      <td>1</td>\n",
              "      <td>Capão Raso</td>\n",
              "      <td>https://www.chavesnamao.com.br/lancamento/gard...</td>\n",
              "    </tr>\n",
              "    <tr>\n",
              "      <th>1</th>\n",
              "      <td>390000.000</td>\n",
              "      <td>133</td>\n",
              "      <td>3</td>\n",
              "      <td>1</td>\n",
              "      <td>1</td>\n",
              "      <td>Portão</td>\n",
              "      <td>https://www.chavesnamao.com.br/imovel/apartame...</td>\n",
              "    </tr>\n",
              "    <tr>\n",
              "      <th>2</th>\n",
              "      <td>930000.000</td>\n",
              "      <td>68</td>\n",
              "      <td>2</td>\n",
              "      <td>2</td>\n",
              "      <td>1</td>\n",
              "      <td>Vila Izabel</td>\n",
              "      <td>https://www.chavesnamao.com.br/imovel/apartame...</td>\n",
              "    </tr>\n",
              "    <tr>\n",
              "      <th>3</th>\n",
              "      <td>298000.000</td>\n",
              "      <td>64</td>\n",
              "      <td>2</td>\n",
              "      <td>1</td>\n",
              "      <td>1</td>\n",
              "      <td>Santa Cândida</td>\n",
              "      <td>https://www.chavesnamao.com.br/imovel/apartame...</td>\n",
              "    </tr>\n",
              "    <tr>\n",
              "      <th>4</th>\n",
              "      <td>890000.000</td>\n",
              "      <td>122</td>\n",
              "      <td>2</td>\n",
              "      <td>3</td>\n",
              "      <td>2</td>\n",
              "      <td>São Francisco</td>\n",
              "      <td>https://www.chavesnamao.com.br/imovel/apartame...</td>\n",
              "    </tr>\n",
              "  </tbody>\n",
              "</table>\n",
              "</div>\n",
              "    <div class=\"colab-df-buttons\">\n",
              "\n",
              "  <div class=\"colab-df-container\">\n",
              "    <button class=\"colab-df-convert\" onclick=\"convertToInteractive('df-ace75dde-db6a-4ed2-95b3-1e1716df1acc')\"\n",
              "            title=\"Convert this dataframe to an interactive table.\"\n",
              "            style=\"display:none;\">\n",
              "\n",
              "  <svg xmlns=\"http://www.w3.org/2000/svg\" height=\"24px\" viewBox=\"0 -960 960 960\">\n",
              "    <path d=\"M120-120v-720h720v720H120Zm60-500h600v-160H180v160Zm220 220h160v-160H400v160Zm0 220h160v-160H400v160ZM180-400h160v-160H180v160Zm440 0h160v-160H620v160ZM180-180h160v-160H180v160Zm440 0h160v-160H620v160Z\"/>\n",
              "  </svg>\n",
              "    </button>\n",
              "\n",
              "  <style>\n",
              "    .colab-df-container {\n",
              "      display:flex;\n",
              "      gap: 12px;\n",
              "    }\n",
              "\n",
              "    .colab-df-convert {\n",
              "      background-color: #E8F0FE;\n",
              "      border: none;\n",
              "      border-radius: 50%;\n",
              "      cursor: pointer;\n",
              "      display: none;\n",
              "      fill: #1967D2;\n",
              "      height: 32px;\n",
              "      padding: 0 0 0 0;\n",
              "      width: 32px;\n",
              "    }\n",
              "\n",
              "    .colab-df-convert:hover {\n",
              "      background-color: #E2EBFA;\n",
              "      box-shadow: 0px 1px 2px rgba(60, 64, 67, 0.3), 0px 1px 3px 1px rgba(60, 64, 67, 0.15);\n",
              "      fill: #174EA6;\n",
              "    }\n",
              "\n",
              "    .colab-df-buttons div {\n",
              "      margin-bottom: 4px;\n",
              "    }\n",
              "\n",
              "    [theme=dark] .colab-df-convert {\n",
              "      background-color: #3B4455;\n",
              "      fill: #D2E3FC;\n",
              "    }\n",
              "\n",
              "    [theme=dark] .colab-df-convert:hover {\n",
              "      background-color: #434B5C;\n",
              "      box-shadow: 0px 1px 3px 1px rgba(0, 0, 0, 0.15);\n",
              "      filter: drop-shadow(0px 1px 2px rgba(0, 0, 0, 0.3));\n",
              "      fill: #FFFFFF;\n",
              "    }\n",
              "  </style>\n",
              "\n",
              "    <script>\n",
              "      const buttonEl =\n",
              "        document.querySelector('#df-ace75dde-db6a-4ed2-95b3-1e1716df1acc button.colab-df-convert');\n",
              "      buttonEl.style.display =\n",
              "        google.colab.kernel.accessAllowed ? 'block' : 'none';\n",
              "\n",
              "      async function convertToInteractive(key) {\n",
              "        const element = document.querySelector('#df-ace75dde-db6a-4ed2-95b3-1e1716df1acc');\n",
              "        const dataTable =\n",
              "          await google.colab.kernel.invokeFunction('convertToInteractive',\n",
              "                                                    [key], {});\n",
              "        if (!dataTable) return;\n",
              "\n",
              "        const docLinkHtml = 'Like what you see? Visit the ' +\n",
              "          '<a target=\"_blank\" href=https://colab.research.google.com/notebooks/data_table.ipynb>data table notebook</a>'\n",
              "          + ' to learn more about interactive tables.';\n",
              "        element.innerHTML = '';\n",
              "        dataTable['output_type'] = 'display_data';\n",
              "        await google.colab.output.renderOutput(dataTable, element);\n",
              "        const docLink = document.createElement('div');\n",
              "        docLink.innerHTML = docLinkHtml;\n",
              "        element.appendChild(docLink);\n",
              "      }\n",
              "    </script>\n",
              "  </div>\n",
              "\n",
              "\n",
              "<div id=\"df-dd05b8c6-9301-4399-80bf-91d28e7c467a\">\n",
              "  <button class=\"colab-df-quickchart\" onclick=\"quickchart('df-dd05b8c6-9301-4399-80bf-91d28e7c467a')\"\n",
              "            title=\"Suggest charts.\"\n",
              "            style=\"display:none;\">\n",
              "\n",
              "<svg xmlns=\"http://www.w3.org/2000/svg\" height=\"24px\"viewBox=\"0 0 24 24\"\n",
              "     width=\"24px\">\n",
              "    <g>\n",
              "        <path d=\"M19 3H5c-1.1 0-2 .9-2 2v14c0 1.1.9 2 2 2h14c1.1 0 2-.9 2-2V5c0-1.1-.9-2-2-2zM9 17H7v-7h2v7zm4 0h-2V7h2v10zm4 0h-2v-4h2v4z\"/>\n",
              "    </g>\n",
              "</svg>\n",
              "  </button>\n",
              "\n",
              "<style>\n",
              "  .colab-df-quickchart {\n",
              "      --bg-color: #E8F0FE;\n",
              "      --fill-color: #1967D2;\n",
              "      --hover-bg-color: #E2EBFA;\n",
              "      --hover-fill-color: #174EA6;\n",
              "      --disabled-fill-color: #AAA;\n",
              "      --disabled-bg-color: #DDD;\n",
              "  }\n",
              "\n",
              "  [theme=dark] .colab-df-quickchart {\n",
              "      --bg-color: #3B4455;\n",
              "      --fill-color: #D2E3FC;\n",
              "      --hover-bg-color: #434B5C;\n",
              "      --hover-fill-color: #FFFFFF;\n",
              "      --disabled-bg-color: #3B4455;\n",
              "      --disabled-fill-color: #666;\n",
              "  }\n",
              "\n",
              "  .colab-df-quickchart {\n",
              "    background-color: var(--bg-color);\n",
              "    border: none;\n",
              "    border-radius: 50%;\n",
              "    cursor: pointer;\n",
              "    display: none;\n",
              "    fill: var(--fill-color);\n",
              "    height: 32px;\n",
              "    padding: 0;\n",
              "    width: 32px;\n",
              "  }\n",
              "\n",
              "  .colab-df-quickchart:hover {\n",
              "    background-color: var(--hover-bg-color);\n",
              "    box-shadow: 0 1px 2px rgba(60, 64, 67, 0.3), 0 1px 3px 1px rgba(60, 64, 67, 0.15);\n",
              "    fill: var(--button-hover-fill-color);\n",
              "  }\n",
              "\n",
              "  .colab-df-quickchart-complete:disabled,\n",
              "  .colab-df-quickchart-complete:disabled:hover {\n",
              "    background-color: var(--disabled-bg-color);\n",
              "    fill: var(--disabled-fill-color);\n",
              "    box-shadow: none;\n",
              "  }\n",
              "\n",
              "  .colab-df-spinner {\n",
              "    border: 2px solid var(--fill-color);\n",
              "    border-color: transparent;\n",
              "    border-bottom-color: var(--fill-color);\n",
              "    animation:\n",
              "      spin 1s steps(1) infinite;\n",
              "  }\n",
              "\n",
              "  @keyframes spin {\n",
              "    0% {\n",
              "      border-color: transparent;\n",
              "      border-bottom-color: var(--fill-color);\n",
              "      border-left-color: var(--fill-color);\n",
              "    }\n",
              "    20% {\n",
              "      border-color: transparent;\n",
              "      border-left-color: var(--fill-color);\n",
              "      border-top-color: var(--fill-color);\n",
              "    }\n",
              "    30% {\n",
              "      border-color: transparent;\n",
              "      border-left-color: var(--fill-color);\n",
              "      border-top-color: var(--fill-color);\n",
              "      border-right-color: var(--fill-color);\n",
              "    }\n",
              "    40% {\n",
              "      border-color: transparent;\n",
              "      border-right-color: var(--fill-color);\n",
              "      border-top-color: var(--fill-color);\n",
              "    }\n",
              "    60% {\n",
              "      border-color: transparent;\n",
              "      border-right-color: var(--fill-color);\n",
              "    }\n",
              "    80% {\n",
              "      border-color: transparent;\n",
              "      border-right-color: var(--fill-color);\n",
              "      border-bottom-color: var(--fill-color);\n",
              "    }\n",
              "    90% {\n",
              "      border-color: transparent;\n",
              "      border-bottom-color: var(--fill-color);\n",
              "    }\n",
              "  }\n",
              "</style>\n",
              "\n",
              "  <script>\n",
              "    async function quickchart(key) {\n",
              "      const quickchartButtonEl =\n",
              "        document.querySelector('#' + key + ' button');\n",
              "      quickchartButtonEl.disabled = true;  // To prevent multiple clicks.\n",
              "      quickchartButtonEl.classList.add('colab-df-spinner');\n",
              "      try {\n",
              "        const charts = await google.colab.kernel.invokeFunction(\n",
              "            'suggestCharts', [key], {});\n",
              "      } catch (error) {\n",
              "        console.error('Error during call to suggestCharts:', error);\n",
              "      }\n",
              "      quickchartButtonEl.classList.remove('colab-df-spinner');\n",
              "      quickchartButtonEl.classList.add('colab-df-quickchart-complete');\n",
              "    }\n",
              "    (() => {\n",
              "      let quickchartButtonEl =\n",
              "        document.querySelector('#df-dd05b8c6-9301-4399-80bf-91d28e7c467a button');\n",
              "      quickchartButtonEl.style.display =\n",
              "        google.colab.kernel.accessAllowed ? 'block' : 'none';\n",
              "    })();\n",
              "  </script>\n",
              "</div>\n",
              "    </div>\n",
              "  </div>\n"
            ]
          },
          "metadata": {},
          "execution_count": 96
        }
      ]
    },
    {
      "cell_type": "code",
      "execution_count": null,
      "metadata": {
        "id": "kWCjhLLA9hjg",
        "colab": {
          "base_uri": "https://localhost:8080/"
        },
        "outputId": "6de66295-3dbc-4481-b6fb-1add2ed9d057"
      },
      "outputs": [
        {
          "output_type": "stream",
          "name": "stderr",
          "text": [
            "<ipython-input-97-01f58afa8917>:1: FutureWarning: The default value of regex will change from True to False in a future version. In addition, single character regular expressions will *not* be treated as literal strings when regex=True.\n",
            "  dados.metros_quadrados = dados.metros_quadrados.str.replace('.','' )\n"
          ]
        },
        {
          "output_type": "execute_result",
          "data": {
            "text/plain": [
              "array(['0', '100', '101', '102', '103', '1034', '104', '105', '106',\n",
              "       '107', '108', '109', '110', '111', '112', '113', '114', '115',\n",
              "       '116', '117', '118', '119', '120', '121', '122', '123', '124',\n",
              "       '125', '126', '127', '128', '129', '130', '131', '132', '133',\n",
              "       '134', '135', '13500', '136', '138', '139', '140', '141', '142',\n",
              "       '143', '144', '145', '146', '147', '149', '150', '151', '152',\n",
              "       '153', '154', '155', '156', '157', '158', '159', '160', '161',\n",
              "       '162', '163', '165', '166', '167', '168', '17', '170', '172',\n",
              "       '175', '176', '177', '178', '179', '18', '180', '181', '182',\n",
              "       '183', '184', '185', '18540', '188', '189', '19', '190', '193',\n",
              "       '194', '195', '196', '198', '20', '200', '201', '203', '204',\n",
              "       '205', '206', '209', '21', '210', '211', '212', '214', '215',\n",
              "       '216', '22', '222', '223', '224', '227', '228', '229', '23', '230',\n",
              "       '231', '232', '233', '234', '239', '24', '240', '241', '245', '25',\n",
              "       '250', '254', '255', '256', '259', '26', '260', '263', '266',\n",
              "       '267', '268', '269', '27', '272', '28', '280', '288', '289', '29',\n",
              "       '293', '30', '302', '305', '31', '310', '313', '315', '32', '33',\n",
              "       '330', '333', '334', '335', '338', '34', '346', '348', '35', '350',\n",
              "       '351', '353', '36', '362', '364', '367', '37', '3705', '372', '38',\n",
              "       '380', '388', '39', '399', '40', '403', '405', '409', '41', '414',\n",
              "       '42', '425', '43', '433', '44', '443', '444', '45', '455', '46',\n",
              "       '464', '4668', '47', '473', '48', '48720', '49', '50', '50580',\n",
              "       '506', '51', '513', '52', '52000', '527', '53', '534', '54', '55',\n",
              "       '56', '57', '58', '59', '59000', '60', '61', '6115', '62', '63',\n",
              "       '64', '65', '66', '67', '68', '69', '70', '700', '71', '72', '73',\n",
              "       '74', '75', '76', '77', '78', '79', '79170', '80', '81', '814',\n",
              "       '82', '83', '84', '85', '86', '86000', '87', '88', '89', '90',\n",
              "       '91', '92', '93', '9345', '94', '95', '96', '97', '98', '99'],\n",
              "      dtype=object)"
            ]
          },
          "metadata": {},
          "execution_count": 97
        }
      ],
      "source": [
        "\n",
        "dados.metros_quadrados = dados.metros_quadrados.str.replace('.','' )\n",
        "dados.metros_quadrados = dados.metros_quadrados.str.replace('--','0')\n",
        "\n",
        "metro_split = dados.metros_quadrados\n",
        "n = [metros_menor.split()[0] for metros_menor in metro_split]\n",
        "dados.metros_quadrados = n\n",
        "dados.sort_values(by=['metros_quadrados']).metros_quadrados.unique()"
      ]
    },
    {
      "cell_type": "code",
      "source": [
        "dados.metros_quadrados = dados.metros_quadrados.astype(float)\n",
        "dados.info()"
      ],
      "metadata": {
        "colab": {
          "base_uri": "https://localhost:8080/"
        },
        "id": "doUVLRLzDlqK",
        "outputId": "ff0db8f4-8f85-423c-e0d8-4abc772975cd"
      },
      "execution_count": null,
      "outputs": [
        {
          "output_type": "stream",
          "name": "stdout",
          "text": [
            "<class 'pandas.core.frame.DataFrame'>\n",
            "Int64Index: 2655 entries, 0 to 2654\n",
            "Data columns (total 7 columns):\n",
            " #   Column            Non-Null Count  Dtype  \n",
            "---  ------            --------------  -----  \n",
            " 0   preco             2655 non-null   float64\n",
            " 1   metros_quadrados  2655 non-null   float64\n",
            " 2   num_quartos       2655 non-null   object \n",
            " 3   num_banheiro      2655 non-null   object \n",
            " 4   num_garagem       2655 non-null   int64  \n",
            " 5   endereco          2655 non-null   object \n",
            " 6   link              2655 non-null   object \n",
            "dtypes: float64(2), int64(1), object(4)\n",
            "memory usage: 165.9+ KB\n"
          ]
        }
      ]
    },
    {
      "cell_type": "code",
      "source": [
        "dados.sort_values(by=['num_quartos']).num_quartos.unique()"
      ],
      "metadata": {
        "colab": {
          "base_uri": "https://localhost:8080/"
        },
        "id": "p2xMMuSzDAM_",
        "outputId": "0af68d41-94a6-43de-bf6f-f10b94862893"
      },
      "execution_count": null,
      "outputs": [
        {
          "output_type": "execute_result",
          "data": {
            "text/plain": [
              "array(['0', '1 ', '1  Banheiro', '1  Garagem', '1 a 2 ', '1 a 3 ', '2 ',\n",
              "       '2  Banheiros', '2 a 2 ', '2 a 3 ', '3 ', '3 a 3 ', '4 ', '5 '],\n",
              "      dtype=object)"
            ]
          },
          "metadata": {},
          "execution_count": 99
        }
      ]
    },
    {
      "cell_type": "code",
      "source": [
        "quarto_split = dados.num_quartos\n",
        "n = [quarto_menor.split()[0] for quarto_menor in quarto_split]\n",
        "dados.num_quartos = n\n",
        "dados.sort_values(by=['num_quartos']).num_quartos.unique()"
      ],
      "metadata": {
        "colab": {
          "base_uri": "https://localhost:8080/"
        },
        "id": "9EZ_bTwhCLJl",
        "outputId": "7c1200ae-993f-4717-aeb9-e2ae24316147"
      },
      "execution_count": null,
      "outputs": [
        {
          "output_type": "execute_result",
          "data": {
            "text/plain": [
              "array(['0', '1', '2', '3', '4', '5'], dtype=object)"
            ]
          },
          "metadata": {},
          "execution_count": 100
        }
      ]
    },
    {
      "cell_type": "code",
      "source": [
        "dados.num_quartos = dados.num_quartos.astype(np.float64)\n",
        "dados.info()"
      ],
      "metadata": {
        "colab": {
          "base_uri": "https://localhost:8080/"
        },
        "id": "-xmWLjqMdOnN",
        "outputId": "23512793-358d-43de-d379-5bcd465e234e"
      },
      "execution_count": null,
      "outputs": [
        {
          "output_type": "stream",
          "name": "stdout",
          "text": [
            "<class 'pandas.core.frame.DataFrame'>\n",
            "Int64Index: 2655 entries, 0 to 2654\n",
            "Data columns (total 7 columns):\n",
            " #   Column            Non-Null Count  Dtype  \n",
            "---  ------            --------------  -----  \n",
            " 0   preco             2655 non-null   float64\n",
            " 1   metros_quadrados  2655 non-null   float64\n",
            " 2   num_quartos       2655 non-null   float64\n",
            " 3   num_banheiro      2655 non-null   object \n",
            " 4   num_garagem       2655 non-null   int64  \n",
            " 5   endereco          2655 non-null   object \n",
            " 6   link              2655 non-null   object \n",
            "dtypes: float64(3), int64(1), object(3)\n",
            "memory usage: 165.9+ KB\n"
          ]
        }
      ]
    },
    {
      "cell_type": "code",
      "source": [
        "banheiro_split = dados.num_banheiro\n",
        "n = [banheiro_menor.split()[0] for banheiro_menor in banheiro_split]\n",
        "dados.num_banheiro = n\n",
        "dados.sort_values(by=['num_banheiro']).num_banheiro.unique()"
      ],
      "metadata": {
        "colab": {
          "base_uri": "https://localhost:8080/"
        },
        "id": "NJBTDofsPgRU",
        "outputId": "828a8117-2bc9-4adb-eda7-71698c51eeb0"
      },
      "execution_count": null,
      "outputs": [
        {
          "output_type": "execute_result",
          "data": {
            "text/plain": [
              "array(['0', '1', '2', '3', '4', '5', '6', '7'], dtype=object)"
            ]
          },
          "metadata": {},
          "execution_count": 102
        }
      ]
    },
    {
      "cell_type": "code",
      "source": [
        "dados.num_banheiro = dados.num_banheiro.astype(int)\n",
        "dados.info()"
      ],
      "metadata": {
        "colab": {
          "base_uri": "https://localhost:8080/"
        },
        "id": "nhhn0wMYFrVh",
        "outputId": "a67ea08e-5170-4abf-deea-bbe58e6a4aea"
      },
      "execution_count": null,
      "outputs": [
        {
          "output_type": "stream",
          "name": "stdout",
          "text": [
            "<class 'pandas.core.frame.DataFrame'>\n",
            "Int64Index: 2655 entries, 0 to 2654\n",
            "Data columns (total 7 columns):\n",
            " #   Column            Non-Null Count  Dtype  \n",
            "---  ------            --------------  -----  \n",
            " 0   preco             2655 non-null   float64\n",
            " 1   metros_quadrados  2655 non-null   float64\n",
            " 2   num_quartos       2655 non-null   float64\n",
            " 3   num_banheiro      2655 non-null   int64  \n",
            " 4   num_garagem       2655 non-null   int64  \n",
            " 5   endereco          2655 non-null   object \n",
            " 6   link              2655 non-null   object \n",
            "dtypes: float64(3), int64(2), object(2)\n",
            "memory usage: 165.9+ KB\n"
          ]
        }
      ]
    },
    {
      "cell_type": "code",
      "source": [
        "preco_por_mquadrado = dados.preco/dados.metros_quadrados\n",
        "preco_por_mquadrado"
      ],
      "metadata": {
        "colab": {
          "base_uri": "https://localhost:8080/"
        },
        "id": "hhJUzT1wEa-E",
        "outputId": "abee48b0-812f-4729-a2dc-c35021f87e60"
      },
      "execution_count": null,
      "outputs": [
        {
          "output_type": "execute_result",
          "data": {
            "text/plain": [
              "0       7081.250\n",
              "1       2932.331\n",
              "2      13676.471\n",
              "3       4656.250\n",
              "4       7295.082\n",
              "          ...   \n",
              "2650   12056.250\n",
              "2651    7700.000\n",
              "2652    9868.421\n",
              "2653   10368.649\n",
              "2654         inf\n",
              "Length: 2655, dtype: float64"
            ]
          },
          "metadata": {},
          "execution_count": 104
        }
      ]
    },
    {
      "cell_type": "code",
      "source": [
        "pd.set_option('float_format', '{:.3f}'.format)\n",
        "dados['Preco/metro_quadrado'] = dados.preco/dados.metros_quadrados\n",
        "dados['Preco/metro_quadrado']"
      ],
      "metadata": {
        "colab": {
          "base_uri": "https://localhost:8080/"
        },
        "id": "rAtDl8uaPujY",
        "outputId": "86b16cf6-c97d-442b-800c-cd948ab78697"
      },
      "execution_count": null,
      "outputs": [
        {
          "output_type": "execute_result",
          "data": {
            "text/plain": [
              "0       7081.250\n",
              "1       2932.331\n",
              "2      13676.471\n",
              "3       4656.250\n",
              "4       7295.082\n",
              "          ...   \n",
              "2650   12056.250\n",
              "2651    7700.000\n",
              "2652    9868.421\n",
              "2653   10368.649\n",
              "2654         inf\n",
              "Name: Preco/metro_quadrado, Length: 2655, dtype: float64"
            ]
          },
          "metadata": {},
          "execution_count": 112
        }
      ]
    },
    {
      "cell_type": "code",
      "source": [
        " preco_zerado =  dados.loc[(dados['preco'] == 0)]\n",
        " preco_zerado.index"
      ],
      "metadata": {
        "colab": {
          "base_uri": "https://localhost:8080/"
        },
        "id": "OGrPIH94U-mj",
        "outputId": "a4983d41-a413-49a1-d3f9-ac4429b16147"
      },
      "execution_count": null,
      "outputs": [
        {
          "output_type": "execute_result",
          "data": {
            "text/plain": [
              "Int64Index([ 107,  215,  298,  307,  682,  731,  831,  852,  872, 1277, 1385,\n",
              "            1468, 1477, 1852, 1901, 2001, 2022, 2042, 2419, 2565, 2579, 2618],\n",
              "           dtype='int64')"
            ]
          },
          "metadata": {},
          "execution_count": 130
        }
      ]
    },
    {
      "cell_type": "code",
      "source": [
        "dados.drop(preco_zerado.index, inplace=True)"
      ],
      "metadata": {
        "id": "oZZo892bI6Nh"
      },
      "execution_count": null,
      "outputs": []
    },
    {
      "cell_type": "code",
      "source": [
        "metros_zerado =  dados.loc[(dados['metros_quadrados'] == 0)]\n",
        "dados.drop(metros_zerado.index, inplace=True)"
      ],
      "metadata": {
        "id": "whVWREcZWLfM"
      },
      "execution_count": null,
      "outputs": []
    },
    {
      "cell_type": "code",
      "source": [
        "pd.set_option('float_format', '{:.2f}'.format,\n",
        "              'display.max_rows',\n",
        "              None)\n",
        "media = dados.groupby('endereco').mean()\n",
        "media['Preco/metro_quadrado'].sort_values()"
      ],
      "metadata": {
        "colab": {
          "base_uri": "https://localhost:8080/"
        },
        "id": "nj3BU2OMPxCB",
        "outputId": "d9dec776-f1c5-4254-e354-cef3e6cf4932"
      },
      "execution_count": null,
      "outputs": [
        {
          "output_type": "stream",
          "name": "stderr",
          "text": [
            "<ipython-input-154-393afc5a6447>:4: FutureWarning: The default value of numeric_only in DataFrameGroupBy.mean is deprecated. In a future version, numeric_only will default to False. Either specify numeric_only or select only columns which should be valid for the function.\n",
            "  media = dados.groupby('endereco').mean()\n"
          ]
        },
        {
          "output_type": "execute_result",
          "data": {
            "text/plain": [
              "endereco\n",
              "Ganchinho              2976.19\n",
              "Barreirinha            3297.87\n",
              "Tatuquara              3380.89\n",
              "Pilarzinho             3576.24\n",
              "Campo de Santana       3690.64\n",
              "Sítio Cercado          3794.99\n",
              "Alto Boqueirão         4289.29\n",
              "Fazendinha             4356.91\n",
              "Boqueirão              4455.09\n",
              "Santa Cândida          4608.83\n",
              "Uberaba                4703.90\n",
              "Umbará                 4741.88\n",
              "Vista Alegre           4916.67\n",
              "Atuba                  5077.15\n",
              "Guabirotuba            5095.24\n",
              "Pinheirinho            5194.64\n",
              "Jardim das Américas    5309.17\n",
              "Cidade Industrial      5314.79\n",
              "Parolin                5489.58\n",
              "Xaxim                  5489.70\n",
              "Cajuru                 5495.93\n",
              "São Braz               5527.78\n",
              "Hauer                  5538.54\n",
              "Fanny                  5743.17\n",
              "Capão Raso             5917.97\n",
              "Abranches              5952.38\n",
              "Lindóia                6310.79\n",
              "Tingui                 6387.85\n",
              "Novo Mundo             6400.93\n",
              "Prado Velho            6511.24\n",
              "Santa Quitéria         6577.90\n",
              "Jardim Botânico        6589.90\n",
              "Rebouças               6601.51\n",
              "Bairro Alto            6618.39\n",
              "Cascatinha             6619.70\n",
              "Guaíra                 6685.09\n",
              "Portão                 6691.48\n",
              "Alto da Rua XV         7016.31\n",
              "Boa Vista              7262.34\n",
              "Campo Comprido         7292.96\n",
              "Tarumã                 7316.55\n",
              "Centro                 7504.01\n",
              "Capão da Imbuia        7526.18\n",
              "Bacacheri              7714.69\n",
              "Santa Felicidade       7737.37\n",
              "Ahú                    7747.56\n",
              "Vila Izabel            7859.68\n",
              "Cristo Rei             8224.84\n",
              "Campina do Siqueira    8700.86\n",
              "Água Verde             8870.60\n",
              "São Lourenço           8977.40\n",
              "Jardim Social          9020.98\n",
              "Augusta                9375.00\n",
              "Centro Cívico          9681.49\n",
              "Batel                  9870.39\n",
              "Juvevê                 9911.85\n",
              "Cabral                 9949.85\n",
              "Mercês                10290.51\n",
              "São Francisco         10301.47\n",
              "Hugo Lange            10432.37\n",
              "Ecoville              10755.78\n",
              "Bigorrilho            11058.76\n",
              "Santo Inácio          11157.40\n",
              "Seminário             11389.87\n",
              "Alto da Glória        13171.99\n",
              "Mossunguê             13537.43\n",
              "Bom Retiro            14597.09\n",
              "Name: Preco/metro_quadrado, dtype: float64"
            ]
          },
          "metadata": {},
          "execution_count": 154
        }
      ]
    },
    {
      "cell_type": "code",
      "source": [],
      "metadata": {
        "id": "EOLeal6zQB7c"
      },
      "execution_count": null,
      "outputs": []
    }
  ],
  "metadata": {
    "colab": {
      "provenance": [],
      "mount_file_id": "1J_UMpU2dxXmos9a5XEpu-2lZTKrDelsl",
      "authorship_tag": "ABX9TyP8wJ6Gu80acoyZkeaPPMzx",
      "include_colab_link": true
    },
    "kernelspec": {
      "display_name": "Python 3",
      "name": "python3"
    },
    "language_info": {
      "name": "python"
    }
  },
  "nbformat": 4,
  "nbformat_minor": 0
}